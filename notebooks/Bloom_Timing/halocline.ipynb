{
 "cells": [
  {
   "cell_type": "code",
   "execution_count": 3,
   "metadata": {},
   "outputs": [],
   "source": [
    "import netCDF4 as nc\n",
    "import numpy as np\n",
    "from salishsea_tools import evaltools as et, places, viz_tools, visualisations\n",
    "import datetime as dt"
   ]
  },
  {
   "cell_type": "code",
   "execution_count": 4,
   "metadata": {},
   "outputs": [],
   "source": [
    "def halo_de(ncname,ts_x,ts_y):\n",
    "    \n",
    "    ''' given a path to a SalishSeaCast netcdf file and an x, y pair, \n",
    "        returns halocline depth, where halocline depth is defined a midway between \n",
    "        two cells that have the largest salinity gradient\n",
    "        ie max abs((sal1-sal2)/(depth1-depth2))\n",
    "\n",
    "            Parameters:\n",
    "                    ncname (str): path to a netcdf file containing \n",
    "                    a valid salinity variable (vosaline)\n",
    "                    ts_x (int): x-coordinate at which halocline is calculated\n",
    "                    tx_y (int): y-coordinate at which halocline is calculated\n",
    "            Returns:\n",
    "                    halocline_depth: depth in meters of maximum salinity gradient\n",
    "    '''\n",
    "    \n",
    "     # o\n",
    "    \n",
    "    halocline = 0\n",
    "    grid = nc.Dataset('/data/vdo/MEOPAR/NEMO-forcing/grid/mesh_mask201702.nc')\n",
    "    nemo = nc.Dataset(ncname)\n",
    "    \n",
    "    #get the land mask\n",
    "    col_mask = grid['tmask'][0,:,ts_y,ts_x] \n",
    "        # to eliminate from the calculation any land points\n",
    "    \n",
    "    #get the depths of the watercolumn and filter only cells that have water\n",
    "    col_depths = grid['gdept_0'][0,:,ts_y,ts_x]\n",
    "    col_depths = col_depths[col_mask==1]    \n",
    "\n",
    "    ### if there is no water, no halocline\n",
    "    if (len(col_depths) == 0):\n",
    "        halocline = np.nan\n",
    "    \n",
    "    else: \n",
    "        #get the salinity of the point, again filtering for where water exists\n",
    "        col_sal = nemo['vosaline'][0,:,ts_y,ts_x]\n",
    "        col_sal = col_sal[col_mask==1] # col_sal has a vector of salinity points, \n",
    "            # this gives true values where col_mask=1\n",
    "\n",
    "        #get the gradient in salinity\n",
    "        sal_grad = np.zeros_like(col_sal)\n",
    "\n",
    "        for i in range(0, (len(col_sal)-1)):\n",
    "            sal_grad[i] = np.abs((col_sal[i]-col_sal[i+1])/(col_depths[i]-col_depths[i+1]))\n",
    "\n",
    "        #print(sal_grad)\n",
    "\n",
    "        loc_max = np.where(sal_grad == np.nanmax(sal_grad))\n",
    "        loc_max = (loc_max[0][0])\n",
    "\n",
    "        #halocline is halfway between the two cells\n",
    "        halocline = col_depths[loc_max] + 0.5*(col_depths[loc_max+1]-col_depths[loc_max])\n",
    "\n",
    "    \n",
    "    return halocline"
   ]
  },
  {
   "cell_type": "code",
   "execution_count": 8,
   "metadata": {},
   "outputs": [
    {
     "ename": "ValueError",
     "evalue": "zero-dimensional arrays cannot be concatenated",
     "output_type": "error",
     "traceback": [
      "\u001b[0;31m---------------------------------------------------------------------------\u001b[0m",
      "\u001b[0;31mValueError\u001b[0m                                Traceback (most recent call last)",
      "\u001b[0;32m<ipython-input-8-534a3c04e03e>\u001b[0m in \u001b[0;36m<module>\u001b[0;34m\u001b[0m\n\u001b[1;32m     17\u001b[0m     \u001b[0mhalocline\u001b[0m\u001b[0;34m.\u001b[0m\u001b[0mappend\u001b[0m\u001b[0;34m(\u001b[0m\u001b[0mhalo_de\u001b[0m\u001b[0;34m(\u001b[0m\u001b[0mfiledate\u001b[0m\u001b[0;34m,\u001b[0m\u001b[0mii\u001b[0m\u001b[0;34m,\u001b[0m\u001b[0mij\u001b[0m\u001b[0;34m)\u001b[0m\u001b[0;34m)\u001b[0m\u001b[0;34m\u001b[0m\u001b[0;34m\u001b[0m\u001b[0m\n\u001b[1;32m     18\u001b[0m \u001b[0;34m\u001b[0m\u001b[0m\n\u001b[0;32m---> 19\u001b[0;31m \u001b[0mhalocline\u001b[0m\u001b[0;34m=\u001b[0m\u001b[0mnp\u001b[0m\u001b[0;34m.\u001b[0m\u001b[0mconcatenate\u001b[0m\u001b[0;34m(\u001b[0m\u001b[0mhalocline\u001b[0m\u001b[0;34m,\u001b[0m\u001b[0maxis\u001b[0m\u001b[0;34m=\u001b[0m\u001b[0;36m0\u001b[0m\u001b[0;34m)\u001b[0m\u001b[0;34m\u001b[0m\u001b[0;34m\u001b[0m\u001b[0m\n\u001b[0m\u001b[1;32m     20\u001b[0m \u001b[0;34m\u001b[0m\u001b[0m\n\u001b[1;32m     21\u001b[0m \u001b[0mprint\u001b[0m\u001b[0;34m(\u001b[0m\u001b[0mhalocline\u001b[0m\u001b[0;34m)\u001b[0m\u001b[0;34m\u001b[0m\u001b[0;34m\u001b[0m\u001b[0m\n",
      "\u001b[0;32m<__array_function__ internals>\u001b[0m in \u001b[0;36mconcatenate\u001b[0;34m(*args, **kwargs)\u001b[0m\n",
      "\u001b[0;31mValueError\u001b[0m: zero-dimensional arrays cannot be concatenated"
     ]
    }
   ],
   "source": [
    "#testnc = '/results2/SalishSea/nowcast-green.201905/05jan20/SalishSea_1d_20200105_20200105_grid_T.nc'\n",
    "ii = 258\n",
    "ij = 450\n",
    "iyear=2015\n",
    "starti=dt.datetime(iyear,1,1)\n",
    "endi=dt.datetime(iyear,1,4)\n",
    "basedir='/results2/SalishSea/nowcast-green.201905/'\n",
    "nam_fmt='nowcast'\n",
    "flen=1 # files contain 1 day of data each\n",
    "tres=24 # 1: hourly resolution; 24: daily resolution  \n",
    "flist3 = et.index_model_files(starti,endi,basedir,nam_fmt,flen,\"grid_T\",tres)\n",
    "testnc=flist3['paths'][0]\n",
    "\n",
    "halocline=list()\n",
    "\n",
    "for filedate in flist3['paths']:\n",
    "    halocline.append(halo_de(filedate,ii,ij))\n",
    "    \n",
    "print(halocline)"
   ]
  },
  {
   "cell_type": "code",
   "execution_count": 12,
   "metadata": {},
   "outputs": [
    {
     "data": {
      "text/plain": [
       "'/results2/SalishSea/nowcast-green.201905/01jan15/SalishSea_1d_20150101_20150101_grid_T.nc'"
      ]
     },
     "execution_count": 12,
     "metadata": {},
     "output_type": "execute_result"
    }
   ],
   "source": [
    "testnc[0]"
   ]
  },
  {
   "cell_type": "code",
   "execution_count": 5,
   "metadata": {},
   "outputs": [
    {
     "name": "stdout",
     "output_type": "stream",
     "text": [
      "8.000929594039917\n"
     ]
    }
   ],
   "source": [
    "\n",
    "testnc = '/results2/SalishSea/nowcast-green.201905/01jan15/SalishSea_1d_20150101_20150101_grid_T.nc'\n",
    "ts_x = 258\n",
    "ts_y = 450\n",
    "halo = halo_de(testnc,ts_x,ts_y)\n",
    "print(halo)"
   ]
  },
  {
   "cell_type": "code",
   "execution_count": null,
   "metadata": {},
   "outputs": [],
   "source": []
  },
  {
   "cell_type": "code",
   "execution_count": null,
   "metadata": {},
   "outputs": [],
   "source": []
  }
 ],
 "metadata": {
  "kernelspec": {
   "display_name": "Python (py39)",
   "language": "python",
   "name": "py39"
  },
  "language_info": {
   "codemirror_mode": {
    "name": "ipython",
    "version": 3
   },
   "file_extension": ".py",
   "mimetype": "text/x-python",
   "name": "python",
   "nbconvert_exporter": "python",
   "pygments_lexer": "ipython3",
   "version": "3.9.1"
  }
 },
 "nbformat": 4,
 "nbformat_minor": 4
}
